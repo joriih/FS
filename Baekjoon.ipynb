{
 "cells": [
  {
   "cell_type": "code",
   "execution_count": 11,
   "metadata": {},
   "outputs": [
    {
     "name": "stdout",
     "output_type": "stream",
     "text": [
      "18\n"
     ]
    }
   ],
   "source": [
    "num = int(input())"
   ]
  },
  {
   "cell_type": "code",
   "execution_count": 12,
   "metadata": {},
   "outputs": [
    {
     "name": "stdout",
     "output_type": "stream",
     "text": [
      "3\n"
     ]
    }
   ],
   "source": [
    "if num <= 100:\n",
    "    if num == 3 or num == 5:\n",
    "        print(1)\n",
    "    elif num == 6 or num == 8 or num == 10:\n",
    "        print(2)\n",
    "    elif num == 9:\n",
    "        print(3)\n",
    "    else:\n",
    "        print(-1)\n",
    "else:\n",
    "    if num%5 == 1:\n",
    "        print(num//5 + 1)\n",
    "    elif num%5 == 2:\n",
    "        print(num//5 + 2)\n",
    "    elif num%5 == 3:\n",
    "        print(num//5 + 1)\n",
    "    elif num%5 == 4:\n",
    "        print(num//5 + 2)\n",
    "    else:\n",
    "        print(num//5)"
   ]
  },
  {
   "cell_type": "code",
   "execution_count": 13,
   "metadata": {},
   "outputs": [
    {
     "name": "stdout",
     "output_type": "stream",
     "text": [
      "aa\n"
     ]
    }
   ],
   "source": [
    "print('a'*2)"
   ]
  },
  {
   "cell_type": "code",
   "execution_count": null,
   "metadata": {},
   "outputs": [],
   "source": []
  }
 ],
 "metadata": {
  "kernelspec": {
   "display_name": "Python 3",
   "language": "python",
   "name": "python3"
  },
  "language_info": {
   "codemirror_mode": {
    "name": "ipython",
    "version": 3
   },
   "file_extension": ".py",
   "mimetype": "text/x-python",
   "name": "python",
   "nbconvert_exporter": "python",
   "pygments_lexer": "ipython3",
   "version": "3.8.5"
  }
 },
 "nbformat": 4,
 "nbformat_minor": 4
}
